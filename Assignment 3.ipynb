{
 "cells": [
  {
   "cell_type": "code",
   "execution_count": 26,
   "id": "33f04473",
   "metadata": {},
   "outputs": [
    {
     "name": "stdout",
     "output_type": "stream",
     "text": [
      "Enter Number: 23\n",
      "23 is a prime number\n"
     ]
    }
   ],
   "source": [
    "x = int(input(\"Enter Number: \"))\n",
    "\n",
    "if x>1:\n",
    "    for i in range(2,x):\n",
    "        if x%i==0:\n",
    "            print(x, \"is not a prime number\")\n",
    "            break\n",
    "    else:\n",
    "        print(x, \"is a prime number\")\n",
    "else:\n",
    "    print(x, \"is not prime number\")"
   ]
  },
  {
   "cell_type": "code",
   "execution_count": 29,
   "id": "1acca6a1",
   "metadata": {},
   "outputs": [
    {
     "name": "stdout",
     "output_type": "stream",
     "text": [
      "2\n",
      "3\n",
      "5\n",
      "7\n",
      "11\n",
      "13\n",
      "17\n",
      "19\n",
      "23\n",
      "29\n",
      "31\n",
      "37\n",
      "41\n",
      "43\n",
      "47\n",
      "53\n",
      "59\n",
      "61\n",
      "67\n",
      "71\n",
      "73\n",
      "79\n",
      "83\n",
      "89\n",
      "97\n"
     ]
    }
   ],
   "source": [
    "for x in range(1,101):\n",
    "    if x>1:\n",
    "        for i in range(2,x):\n",
    "            if x%i==0:\n",
    "                break\n",
    "        else:\n",
    "            print(x)"
   ]
  },
  {
   "cell_type": "code",
   "execution_count": null,
   "id": "68c19d4d",
   "metadata": {},
   "outputs": [],
   "source": []
  }
 ],
 "metadata": {
  "kernelspec": {
   "display_name": "Python 3",
   "language": "python",
   "name": "python3"
  },
  "language_info": {
   "codemirror_mode": {
    "name": "ipython",
    "version": 3
   },
   "file_extension": ".py",
   "mimetype": "text/x-python",
   "name": "python",
   "nbconvert_exporter": "python",
   "pygments_lexer": "ipython3",
   "version": "3.8.8"
  }
 },
 "nbformat": 4,
 "nbformat_minor": 5
}
