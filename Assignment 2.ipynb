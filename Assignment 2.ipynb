{
 "cells": [
  {
   "cell_type": "code",
   "execution_count": 32,
   "id": "bb22f25b",
   "metadata": {},
   "outputs": [
    {
     "name": "stdout",
     "output_type": "stream",
     "text": [
      "Enter Number: 1233455\n",
      "7\n",
      "3\n",
      "Given Number is not TECH Number\n"
     ]
    }
   ],
   "source": [
    "x = int(input('Enter Number: '))\n",
    "y = str(x)\n",
    "l = len(y)\n",
    "print(l)\n",
    "m = l//2\n",
    "print(m)\n",
    "if l%2==0:\n",
    "    a = int(y[0:m])\n",
    "    b = int(y[m:])\n",
    "    print(a, b)\n",
    "    sum = a+b\n",
    "    print(sum)\n",
    "    sqr = sum**2\n",
    "    print(sqr)\n",
    "    if sqr==x:\n",
    "        print(\"Given Number is TECH Number\")\n",
    "    else:\n",
    "        print(\"Given Number is not TECH Number\")\n",
    "else:\n",
    "    print(\"Given Number is not TECH Number\")"
   ]
  },
  {
   "cell_type": "code",
   "execution_count": 35,
   "id": "4d70fff9",
   "metadata": {},
   "outputs": [
    {
     "name": "stdout",
     "output_type": "stream",
     "text": [
      "Enter Number: 123456\n",
      "Given Number is not TECH Number\n"
     ]
    }
   ],
   "source": [
    "x = int(input('Enter Number: '))\n",
    "y = str(x)\n",
    "if len(y)%2==0:\n",
    "    a = int(y[0:len(y)//2])\n",
    "    b = int(y[len(y)//2:])\n",
    "    sum = a+b\n",
    "    sqr = sum**2\n",
    "    if sqr==x:\n",
    "        print(\"Given Number is TECH Number\")\n",
    "    else:\n",
    "        print(\"Given Number is not TECH Number\")\n",
    "else:\n",
    "    print(\"Given Number is not TECH Number\")"
   ]
  },
  {
   "cell_type": "code",
   "execution_count": 39,
   "id": "c398a074",
   "metadata": {},
   "outputs": [
    {
     "name": "stdout",
     "output_type": "stream",
     "text": [
      "81\n",
      "2025\n",
      "3025\n",
      "9801\n"
     ]
    }
   ],
   "source": [
    "for i in range(1,100000):\n",
    "    y = str(i)\n",
    "    if len(y)%2==0:\n",
    "        a = int(y[0:len(y)//2])\n",
    "        b = int(y[len(y)//2:])\n",
    "        sum = a+b\n",
    "        sqr = sum**2\n",
    "        if sqr==i:\n",
    "            print(i)"
   ]
  },
  {
   "cell_type": "code",
   "execution_count": null,
   "id": "67d5f5bb",
   "metadata": {},
   "outputs": [],
   "source": []
  }
 ],
 "metadata": {
  "kernelspec": {
   "display_name": "Python 3",
   "language": "python",
   "name": "python3"
  },
  "language_info": {
   "codemirror_mode": {
    "name": "ipython",
    "version": 3
   },
   "file_extension": ".py",
   "mimetype": "text/x-python",
   "name": "python",
   "nbconvert_exporter": "python",
   "pygments_lexer": "ipython3",
   "version": "3.8.8"
  }
 },
 "nbformat": 4,
 "nbformat_minor": 5
}
