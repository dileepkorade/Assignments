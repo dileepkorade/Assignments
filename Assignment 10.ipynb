{
 "cells": [
  {
   "cell_type": "markdown",
   "id": "2d2ba964",
   "metadata": {},
   "source": [
    "# 10. Write a program which accepts a sequence of words separated by whitespace as input to store the words composed of digits only into the list. Example: If the following words is given as input to the program: \n",
    "\"My name is XYZ. My employee id is E1289 and age is 35 and salary is 120000 rs.\" \n",
    "Then, the output of the program should be: ['35', '120000'] \n",
    "(Please notice that output is list object.)"
   ]
  },
  {
   "cell_type": "code",
   "execution_count": 10,
   "id": "488da7a8",
   "metadata": {},
   "outputs": [
    {
     "name": "stdout",
     "output_type": "stream",
     "text": [
      "Enter sequence of words seperated by whitespace: My name is XYZ. My employee id is E1289 and age is 35 and salary is 120000 rs.\n",
      "['35', '120000']\n"
     ]
    }
   ],
   "source": [
    "senten = input(\"Enter sequence of words seperated by whitespace: \")\n",
    "words = senten.split()\n",
    "\n",
    "#print(words, \"\\n\")\n",
    "\n",
    "num = []\n",
    "\n",
    "for i in words:\n",
    "    if i.isdigit():\n",
    "        num.append(i)\n",
    "        \n",
    "print(num)   "
   ]
  },
  {
   "cell_type": "code",
   "execution_count": 11,
   "id": "6197430a",
   "metadata": {},
   "outputs": [
    {
     "name": "stdout",
     "output_type": "stream",
     "text": [
      "Enter words: My name is XYZ.\n",
      "Enter words:  My employee id is E1289 and age is \n",
      "Enter words: 35 \n",
      "Enter words: and salary is 120000 rs.\n",
      "Enter words: \n",
      "['35', '120000']\n"
     ]
    }
   ],
   "source": [
    "num = []\n",
    "\n",
    "while True:\n",
    "    \n",
    "    words = input(\"Enter words: \")\n",
    "    \n",
    "    if words == \"\":\n",
    "        break\n",
    "        \n",
    "    else:\n",
    "        for word in words.split():\n",
    "            if word.isdigit():\n",
    "                num.append(word)\n",
    "    words = words + words\n",
    "\n",
    "print(num)"
   ]
  },
  {
   "cell_type": "code",
   "execution_count": 1,
   "id": "2c83afb8",
   "metadata": {},
   "outputs": [
    {
     "ename": "IndentationError",
     "evalue": "unexpected indent (<ipython-input-1-53aaf17370ee>, line 6)",
     "output_type": "error",
     "traceback": [
      "\u001b[1;36m  File \u001b[1;32m\"<ipython-input-1-53aaf17370ee>\"\u001b[1;36m, line \u001b[1;32m6\u001b[0m\n\u001b[1;33m    words = input(\"Enter words: \")\u001b[0m\n\u001b[1;37m    ^\u001b[0m\n\u001b[1;31mIndentationError\u001b[0m\u001b[1;31m:\u001b[0m unexpected indent\n"
     ]
    }
   ],
   "source": [
    "def whitespace():\n",
    "    num = []\n",
    "\n",
    "    while True:\n",
    "    \n",
    "        words = input(\"Enter words: \")\n",
    "    \n",
    "        if words == \"\":\n",
    "            break\n",
    "        \n",
    "        else:\n",
    "            for word in words.split():\n",
    "                if word.isdigit():\n",
    "                    num.append(word)\n",
    "        words = words + words\n",
    "\n",
    "    return num"
   ]
  },
  {
   "cell_type": "code",
   "execution_count": 13,
   "id": "2a0e8d27",
   "metadata": {},
   "outputs": [
    {
     "name": "stdout",
     "output_type": "stream",
     "text": [
      "Enter words: My name is XYZ.\n",
      "Enter words:  My employee id is E1289 and\n",
      "Enter words: age is 35\n",
      "Enter words: and salary is 120000 rs.\n",
      "Enter words: \n"
     ]
    },
    {
     "data": {
      "text/plain": [
       "['35', '120000']"
      ]
     },
     "execution_count": 13,
     "metadata": {},
     "output_type": "execute_result"
    }
   ],
   "source": [
    "whitespace()"
   ]
  },
  {
   "cell_type": "code",
   "execution_count": null,
   "id": "9ea782d1",
   "metadata": {},
   "outputs": [],
   "source": []
  }
 ],
 "metadata": {
  "kernelspec": {
   "display_name": "Python 3",
   "language": "python",
   "name": "python3"
  },
  "language_info": {
   "codemirror_mode": {
    "name": "ipython",
    "version": 3
   },
   "file_extension": ".py",
   "mimetype": "text/x-python",
   "name": "python",
   "nbconvert_exporter": "python",
   "pygments_lexer": "ipython3",
   "version": "3.8.8"
  }
 },
 "nbformat": 4,
 "nbformat_minor": 5
}
