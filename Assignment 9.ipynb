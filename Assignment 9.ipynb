{
 "cells": [
  {
   "cell_type": "markdown",
   "id": "1f6bb58e",
   "metadata": {},
   "source": [
    "# 9. A robot moves in a plane starting from the original point (0,0). The robot can move toward UP, DOWN, LEFT and RIGHT with a given steps. The trace of robot movement is shown as the following: UP 5 DOWN 3 LEFT 3 RIGHT 2 \n",
    "The numbers after the direction are steps. Write a program to print final position of robot after a sequence of movements. \n",
    "(UP(+)/DOWN(-)=> Y Position, RIGHT(+)/LEFT(-)=> X Position) \n",
    "Example: If the following is given as an input to the program: \n",
    "UP 5 LEFT 3 DOWN 6 RIGHT 4 \n",
    "Then, the output of the program should be(X , Y Positions): 1, -1"
   ]
  },
  {
   "cell_type": "code",
   "execution_count": 17,
   "id": "72d32789",
   "metadata": {},
   "outputs": [
    {
     "name": "stdout",
     "output_type": "stream",
     "text": [
      "Enter robot steps in 'UP 00 or DOWN 00 or LEFT 00 or RIGHT 00' format:UP 5\n",
      "Enter robot steps in 'UP 00 or DOWN 00 or LEFT 00 or RIGHT 00' format:LEFT 3\n",
      "Enter robot steps in 'UP 00 or DOWN 00 or LEFT 00 or RIGHT 00' format:DOWN 6\n",
      "Enter robot steps in 'UP 00 or DOWN 00 or LEFT 00 or RIGHT 00' format:RIGHT 4\n",
      "Enter robot steps in 'UP 00 or DOWN 00 or LEFT 00 or RIGHT 00' format:\n",
      "x, y position of robot is:  1 , -1\n"
     ]
    }
   ],
   "source": [
    "x = y = 0\n",
    "\n",
    "while True:\n",
    "    robot_step = input(\"Enter robot steps in 'UP 00 or DOWN 00 or LEFT 00 or RIGHT 00' format:\")\n",
    "    \n",
    "    if robot_step == \"\":\n",
    "        break\n",
    "        \n",
    "    else:\n",
    "        steps = robot_step.split()\n",
    "        direc = steps[0]\n",
    "        dist = int(steps[1])\n",
    "        \n",
    "        if direc == 'UP':\n",
    "            y = y + dist\n",
    "        elif direc == 'DOWN':\n",
    "            y = y - dist\n",
    "        elif direc == 'RIGHT':\n",
    "            x = x + dist\n",
    "        elif direc == 'LEFT':\n",
    "            x = x - dist\n",
    "\n",
    "print(\"x, y position of robot is: \",x,',',y,)"
   ]
  },
  {
   "cell_type": "code",
   "execution_count": 13,
   "id": "6f18fc93",
   "metadata": {},
   "outputs": [
    {
     "name": "stdout",
     "output_type": "stream",
     "text": [
      "Enter robot steps in 'UP 00 or DOWN 00 or LEFT 00 or RIGHT 00' format:UP 10\n",
      "Enter robot steps in 'UP 00 or DOWN 00 or LEFT 00 or RIGHT 00' format:RIGHT 12\n",
      "Enter robot steps in 'UP 00 or DOWN 00 or LEFT 00 or RIGHT 00' format:LEFT 7\n",
      "Enter robot steps in 'UP 00 or DOWN 00 or LEFT 00 or RIGHT 00' format:DOWN 14\n",
      "Enter robot steps in 'UP 00 or DOWN 00 or LEFT 00 or RIGHT 00' format:\n",
      "\n",
      "\n",
      "x, y position of robot is: 5 -4 \n",
      "\n",
      "Distance of robot from initial position is: 6.4031242374328485\n"
     ]
    }
   ],
   "source": [
    "# Distance of robot from initial position:- \n",
    "\n",
    "import math\n",
    "\n",
    "x = y = 0\n",
    "\n",
    "while True:\n",
    "    robot_step = input(\"Enter robot steps in 'UP 00 or DOWN 00 or LEFT 00 or RIGHT 00' format:\")\n",
    "    \n",
    "    if robot_step == \"\":\n",
    "        print(\"\\n\")\n",
    "        break\n",
    "        \n",
    "    else:\n",
    "        steps = robot_step.split()\n",
    "        direc = steps[0]\n",
    "        dist = int(steps[1])\n",
    "        \n",
    "        if direc == 'UP':\n",
    "            y = y + dist\n",
    "        elif direc == 'DOWN':\n",
    "            y = y - dist\n",
    "        elif direc == 'RIGHT':\n",
    "            x = x + dist\n",
    "        elif direc == 'LEFT':\n",
    "            x = x - dist\n",
    "\n",
    "print(\"x, y position of robot is:\", x, y, \"\\n\")\n",
    "\n",
    "location = math.sqrt(x**2 + y**2)\n",
    "print(\"Distance of robot from initial position is:\", location)"
   ]
  },
  {
   "cell_type": "code",
   "execution_count": 12,
   "id": "0268aebb",
   "metadata": {},
   "outputs": [],
   "source": [
    "# define function:- \n",
    "\n",
    "def position():\n",
    "    x = y = 0\n",
    "    continu = 1\n",
    "    while continu == 1:\n",
    "        robot_step = input(\"Enter robot steps in 'UP 00 or DOWN 00 or LEFT 00 or RIGHT 00' format:\")\n",
    "        if robot_step == \"\":\n",
    "            break\n",
    "        else:\n",
    "            steps = robot_step.split()\n",
    "            direc = steps[0]\n",
    "            dist = int(steps[1])\n",
    "        \n",
    "            if direc == 'UP':\n",
    "                y = y + dist\n",
    "            elif direc == 'DOWN':\n",
    "                y = y - dist\n",
    "            elif direc == 'RIGHT':\n",
    "                x = x + dist\n",
    "            elif direc == 'LEFT':\n",
    "                x = x - dist\n",
    "        continu = int(input(\"If robot still moving, press 1, else 0\"))\n",
    "    print(\"x, y position of robot is: \",x,',',y,)"
   ]
  },
  {
   "cell_type": "code",
   "execution_count": 16,
   "id": "cbfa358e",
   "metadata": {
    "scrolled": true
   },
   "outputs": [
    {
     "name": "stdout",
     "output_type": "stream",
     "text": [
      "Enter robot steps in 'UP 00 or DOWN 00 or LEFT 00 or RIGHT 00' format:UP 5\n",
      "If robot still moving, press 1, else 01\n",
      "Enter robot steps in 'UP 00 or DOWN 00 or LEFT 00 or RIGHT 00' format:DOWN 3\n",
      "If robot still moving, press 1, else 01\n",
      "Enter robot steps in 'UP 00 or DOWN 00 or LEFT 00 or RIGHT 00' format:LEFT 3\n",
      "If robot still moving, press 1, else 01\n",
      "Enter robot steps in 'UP 00 or DOWN 00 or LEFT 00 or RIGHT 00' format:RIGHT 2\n",
      "If robot still moving, press 1, else 00\n",
      "x, y position of robot is:  -1 , 2\n"
     ]
    }
   ],
   "source": [
    "position()"
   ]
  },
  {
   "cell_type": "code",
   "execution_count": null,
   "id": "3a3c674a",
   "metadata": {},
   "outputs": [],
   "source": []
  },
  {
   "cell_type": "code",
   "execution_count": null,
   "id": "68b133f6",
   "metadata": {},
   "outputs": [],
   "source": []
  }
 ],
 "metadata": {
  "kernelspec": {
   "display_name": "Python 3",
   "language": "python",
   "name": "python3"
  },
  "language_info": {
   "codemirror_mode": {
    "name": "ipython",
    "version": 3
   },
   "file_extension": ".py",
   "mimetype": "text/x-python",
   "name": "python",
   "nbconvert_exporter": "python",
   "pygments_lexer": "ipython3",
   "version": "3.8.8"
  }
 },
 "nbformat": 4,
 "nbformat_minor": 5
}
