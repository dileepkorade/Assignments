{
 "cells": [
  {
   "cell_type": "markdown",
   "id": "7735712e",
   "metadata": {},
   "source": [
    "# 4. Write a Python code to Print following pattern using loops."
   ]
  },
  {
   "cell_type": "code",
   "execution_count": 2,
   "id": "2112197c",
   "metadata": {},
   "outputs": [
    {
     "ename": "SyntaxError",
     "evalue": "invalid syntax (<ipython-input-2-5d88dd17a0a6>, line 3)",
     "output_type": "error",
     "traceback": [
      "\u001b[1;36m  File \u001b[1;32m\"<ipython-input-2-5d88dd17a0a6>\"\u001b[1;36m, line \u001b[1;32m3\u001b[0m\n\u001b[1;33m    $###$\u001b[0m\n\u001b[1;37m    ^\u001b[0m\n\u001b[1;31mSyntaxError\u001b[0m\u001b[1;31m:\u001b[0m invalid syntax\n"
     ]
    }
   ],
   "source": [
    "##$##\n",
    "#$#$#\n",
    "$###$\n",
    "#$#$#\n",
    "##$##"
   ]
  },
  {
   "cell_type": "code",
   "execution_count": 11,
   "id": "5d2ad947",
   "metadata": {},
   "outputs": [
    {
     "name": "stdout",
     "output_type": "stream",
     "text": [
      "##$##\n",
      "#$#$#\n",
      "$###$\n",
      "#$#$#\n",
      "##$##\n"
     ]
    }
   ],
   "source": [
    "for i in range(5):\n",
    "    for j in range(5):\n",
    "        if i + j == 2 or i-j==2 or j-i ==2 or i+j == 6:\n",
    "            print(\"$\", end=\"\")\n",
    "        else:\n",
    "            print(\"#\", end=\"\")\n",
    "    print()"
   ]
  },
  {
   "cell_type": "code",
   "execution_count": null,
   "id": "4d91ccfc",
   "metadata": {},
   "outputs": [],
   "source": []
  }
 ],
 "metadata": {
  "kernelspec": {
   "display_name": "Python 3",
   "language": "python",
   "name": "python3"
  },
  "language_info": {
   "codemirror_mode": {
    "name": "ipython",
    "version": 3
   },
   "file_extension": ".py",
   "mimetype": "text/x-python",
   "name": "python",
   "nbconvert_exporter": "python",
   "pygments_lexer": "ipython3",
   "version": "3.8.8"
  }
 },
 "nbformat": 4,
 "nbformat_minor": 5
}
