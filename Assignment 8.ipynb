{
 "cells": [
  {
   "cell_type": "markdown",
   "id": "75a22763",
   "metadata": {},
   "source": [
    "# 8. A website requires the users to input username and password to register. Write a program to check the validity of password input by users. Following are the criteria for checking the password: \n",
    "1. At least 1 letter between [a-z] \n",
    "2. At least 1 number between [0-9] \n",
    "3. At least 1 letter between [A-Z] \n",
    "4. At least 1 character from [$,#,@] \n",
    "5. Minimum length of password: 6 \n",
    "6. Maximum length of password: 12 \n",
    "Your program should accept a sequence of comma separated passwords and will check them according to the above criteria. Passwords that match the criteria are to be printed, each separated by a comma. Example If the following passwords are given as input to the program: ABd1234@1,a F1#,2w3E*,2We3345 \n",
    "Then, the output of the program should be: ABd1234@1 \n",
    "(Hint: You can write function is_valid(X) to chk X is valid or not. Use this function to check all passwords)"
   ]
  },
  {
   "cell_type": "code",
   "execution_count": 7,
   "id": "c5c77832",
   "metadata": {},
   "outputs": [
    {
     "name": "stdout",
     "output_type": "stream",
     "text": [
      "Enter user password: ABd1234@1,a F1#,2w3E*,2We3345\n",
      "Accepted password is:  ABd1234@1\n"
     ]
    }
   ],
   "source": [
    "user_password = input(\"Enter user password: \")\n",
    "\n",
    "password_list = user_password.split(',')\n",
    "\n",
    "for p in password_list:\n",
    "    count_upper = count_lower = count_digit = count_speschar = 0\n",
    "    if len(p)<6 or len(p)>13:\n",
    "        pass\n",
    "    else:\n",
    "        for i in range(len(p)):\n",
    "            if p[i].isdigit():\n",
    "                count_digit = count_digit + 1\n",
    "                continue\n",
    "            elif p[i].isupper():\n",
    "                count_upper = count_upper + 1\n",
    "                continue\n",
    "            elif p[i] == '@' or p[i] == '#' or p[i] == '$':\n",
    "                count_speschar = count_speschar + 1\n",
    "                continue\n",
    "            elif p[i].islower():\n",
    "                count_lower = count_lower + 1\n",
    "                continue\n",
    "\n",
    "        if count_digit>0 and count_upper>0 and count_speschar>0 and count_lower>0:\n",
    "            print(\"Accepted password is: \", p)\n",
    "        else:\n",
    "            pass"
   ]
  },
  {
   "cell_type": "code",
   "execution_count": 4,
   "id": "f5dff128",
   "metadata": {},
   "outputs": [
    {
     "name": "stdout",
     "output_type": "stream",
     "text": [
      "Enter user password: ABd1234@1,a F1#,2w3E*,2We3345\n",
      "ABd1234@1\n"
     ]
    }
   ],
   "source": [
    "def is_valid(p):\n",
    "    count_upper = count_lower = count_digit = count_speschar = 0\n",
    "    if len(p)<6 or len(p)>13:\n",
    "        return False\n",
    "    else:\n",
    "        for i in range(len(p)):\n",
    "            if p[i].isdigit():\n",
    "                count_digit = count_digit + 1\n",
    "                continue\n",
    "            elif p[i].isupper():\n",
    "                count_upper = count_upper + 1\n",
    "                continue\n",
    "            elif p[i] == '@' or p[i] == '#' or p[i] == '$':\n",
    "                count_speschar = count_speschar + 1\n",
    "                continue\n",
    "            elif p[i].islower():\n",
    "                count_lower = count_lower + 1\n",
    "                continue\n",
    "\n",
    "        if count_digit>0 and count_upper>0 and count_speschar>0 and count_lower>0:\n",
    "            return True\n",
    "        else:\n",
    "            return False\n",
    "        \n",
    "user_password = input(\"Enter user password: \")\n",
    "\n",
    "password_list = user_password.split(',')\n",
    "\n",
    "for X in password_list:\n",
    "    if is_valid(X):\n",
    "        print(X)"
   ]
  },
  {
   "cell_type": "code",
   "execution_count": 9,
   "id": "ced22e11",
   "metadata": {},
   "outputs": [
    {
     "name": "stdout",
     "output_type": "stream",
     "text": [
      "Enter user password: ABd1234@1,a F1#,2w3E*,2We3345\n",
      "ABd1234@1\n"
     ]
    }
   ],
   "source": [
    "user_password = input(\"Enter user password: \")\n",
    "\n",
    "password_list = user_password.split(',')\n",
    "\n",
    "for X in password_list:\n",
    "    if is_valid(X):\n",
    "        print(X)"
   ]
  },
  {
   "cell_type": "code",
   "execution_count": null,
   "id": "75087bc6",
   "metadata": {},
   "outputs": [],
   "source": [
    "print(\"Accepted password is: \", p)"
   ]
  }
 ],
 "metadata": {
  "kernelspec": {
   "display_name": "Python 3",
   "language": "python",
   "name": "python3"
  },
  "language_info": {
   "codemirror_mode": {
    "name": "ipython",
    "version": 3
   },
   "file_extension": ".py",
   "mimetype": "text/x-python",
   "name": "python",
   "nbconvert_exporter": "python",
   "pygments_lexer": "ipython3",
   "version": "3.8.8"
  }
 },
 "nbformat": 4,
 "nbformat_minor": 5
}
