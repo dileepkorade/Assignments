{
 "cells": [
  {
   "cell_type": "markdown",
   "id": "0d5b2b9c",
   "metadata": {},
   "source": [
    "# 1 . W.A.P to find sum of all numbers divisible by 4 in a range 100 to 200"
   ]
  },
  {
   "cell_type": "code",
   "execution_count": 1,
   "id": "d5e50fdd",
   "metadata": {},
   "outputs": [
    {
     "name": "stdout",
     "output_type": "stream",
     "text": [
      "100 104 108 112 116 120 124 128 132 136 140 144 148 152 156 160 164 168 172 176 180 184 188 192 196 "
     ]
    }
   ],
   "source": [
    "for i in range(100, 200):\n",
    "    if i%4==0:\n",
    "        print(i, end = ' ' )"
   ]
  },
  {
   "cell_type": "code",
   "execution_count": 2,
   "id": "fb709c5e",
   "metadata": {},
   "outputs": [],
   "source": [
    "# OR"
   ]
  },
  {
   "cell_type": "code",
   "execution_count": 3,
   "id": "c8f64cdb",
   "metadata": {},
   "outputs": [
    {
     "name": "stdout",
     "output_type": "stream",
     "text": [
      "100 104 108 112 116 120 124 128 132 136 140 144 148 152 156 160 164 168 172 176 180 184 188 192 196 "
     ]
    }
   ],
   "source": [
    "for i in range(100, 200, 4):\n",
    "    print(i, end = ' ' )"
   ]
  },
  {
   "cell_type": "markdown",
   "id": "947ead6b",
   "metadata": {},
   "source": [
    "# 2. W.A.P to display sum of digits of an integer. Eg. 256 => 13"
   ]
  },
  {
   "cell_type": "code",
   "execution_count": 1,
   "id": "79a800ff",
   "metadata": {},
   "outputs": [
    {
     "name": "stdout",
     "output_type": "stream",
     "text": [
      "Enter number: 256\n",
      "Sum of 256 : 13\n"
     ]
    }
   ],
   "source": [
    "n = int(input(\"Enter number: \"))\n",
    "x = n\n",
    "sum1 = 0\n",
    "while n>0:\n",
    "    digit = n%10\n",
    "    sum1 = sum1 + digit\n",
    "    n = n//10\n",
    "print('Sum of', x,':', sum1)"
   ]
  },
  {
   "cell_type": "markdown",
   "id": "bdf41a2f",
   "metadata": {},
   "source": [
    "# 3. W.A.P to display Sqaure of reversed number of input integer. Eg. 13 =>(31 )^2 => 961"
   ]
  },
  {
   "cell_type": "code",
   "execution_count": 8,
   "id": "8bacb398",
   "metadata": {},
   "outputs": [
    {
     "name": "stdout",
     "output_type": "stream",
     "text": [
      "Enter a number: 13\n",
      "Square of reverse number of 13 - (31^2) = 961\n"
     ]
    }
   ],
   "source": [
    "x = n = int(input(\"Enter a number: \"))\n",
    "\n",
    "revnum=0\n",
    "while n>0:\n",
    "    digit = n%10\n",
    "    revnum = revnum*10 + digit\n",
    "    n = n//10\n",
    "\n",
    "print(\"Square of reverse number of\", x, \"- (31^2)\",\"=\", revnum*revnum)"
   ]
  },
  {
   "cell_type": "markdown",
   "id": "44d49446",
   "metadata": {},
   "source": [
    "# 4. W.A.P to find prime numbers in the range 1 00 to 500"
   ]
  },
  {
   "cell_type": "code",
   "execution_count": 12,
   "id": "dc1d4068",
   "metadata": {},
   "outputs": [
    {
     "name": "stdout",
     "output_type": "stream",
     "text": [
      "Eneter start number: 100\n",
      "Eneter end number: 500\n",
      "101, 103, 107, 109, 113, 127, 131, 137, 139, 149, 151, 157, 163, 167, 173, 179, 181, 191, 193, 197, 199, 211, 223, 227, 229, 233, 239, 241, 251, 257, 263, 269, 271, 277, 281, 283, 293, 307, 311, 313, 317, 331, 337, 347, 349, 353, 359, 367, 373, 379, 383, 389, 397, 401, 409, 419, 421, 431, 433, 439, 443, 449, 457, 461, 463, 467, 479, 487, 491, 499, "
     ]
    }
   ],
   "source": [
    "start = int(input(\"Eneter start number: \"))\n",
    "end = int(input(\"Eneter end number: \"))\n",
    "\n",
    "for num in range(start,end):\n",
    "    if num>1:\n",
    "        for i in range(2, num):\n",
    "            if num%i==0:\n",
    "                break\n",
    "        else:\n",
    "            print(num, end = \", \")    "
   ]
  },
  {
   "cell_type": "markdown",
   "id": "e36e8a31",
   "metadata": {},
   "source": [
    "# 5. W.A.P to replace capital letters from given string with ‘*’ letter. Eg. ‘AbcdEf’ => ‘*bcd*f’"
   ]
  },
  {
   "cell_type": "code",
   "execution_count": 1,
   "id": "9f4d9bee",
   "metadata": {},
   "outputs": [
    {
     "name": "stdout",
     "output_type": "stream",
     "text": [
      "Enter a string: AbcdEf\n",
      "*bcd*f"
     ]
    }
   ],
   "source": [
    "string = input(\"Enter a string: \")\n",
    "\n",
    "for a in string:\n",
    "    if (a.isupper())==True:\n",
    "        print('*', end=\"\")\n",
    "    else:\n",
    "        print(a, end=\"\")"
   ]
  },
  {
   "cell_type": "markdown",
   "id": "3c94f340",
   "metadata": {},
   "source": [
    "# 6. W.A.P to count digits in a given string. Eg. ‘E431 NPQ77’ => 5"
   ]
  },
  {
   "cell_type": "code",
   "execution_count": 37,
   "id": "e83a6c60",
   "metadata": {},
   "outputs": [
    {
     "name": "stdout",
     "output_type": "stream",
     "text": [
      "Enter a string: E431NPQ77\n",
      "4\n",
      "3\n",
      "1\n",
      "7\n",
      "7\n"
     ]
    }
   ],
   "source": [
    "s = str(input(\"Enter a string: \"))\n",
    "\n",
    "for i in range(len(s)):\n",
    "    if s[i].isdigit()==True:\n",
    "        print(s[i])\n",
    "        i = i + 1"
   ]
  },
  {
   "cell_type": "code",
   "execution_count": 43,
   "id": "5720316f",
   "metadata": {},
   "outputs": [
    {
     "name": "stdout",
     "output_type": "stream",
     "text": [
      "Enter a string: E431NPQ77\n",
      "4\n",
      "3\n",
      "1\n",
      "7\n",
      "7\n",
      "Total digits in given string:  5\n"
     ]
    }
   ],
   "source": [
    "s = input(\"Enter a string: \")\n",
    "\n",
    "count = 0\n",
    "\n",
    "for i in range(len(s)):\n",
    "    \n",
    "    if s[i].isdigit()==True:\n",
    "        count = count + 1        \n",
    "        print(s[i])\n",
    "        \n",
    "    i = i + 1\n",
    "    \n",
    "print(\"Total digits in given string: \", count)"
   ]
  },
  {
   "cell_type": "markdown",
   "id": "a5df6d40",
   "metadata": {},
   "source": [
    "# 7. W.A.P to print row-wise sum of elements of a given matrix."
   ]
  },
  {
   "cell_type": "code",
   "execution_count": 11,
   "id": "abf1038e",
   "metadata": {},
   "outputs": [
    {
     "name": "stdout",
     "output_type": "stream",
     "text": [
      "[10, 20]\n"
     ]
    }
   ],
   "source": [
    "A = [[1,2,3,4], [2,4,6,8]]\n",
    "B = []\n",
    "\n",
    "for row in A:\n",
    "    row_sum = 0\n",
    "    for i in range(len(A[0])):\n",
    "        row_sum = row_sum + row[i]\n",
    "    B.append(row_sum)\n",
    "print(B)"
   ]
  },
  {
   "cell_type": "markdown",
   "id": "22d9a207",
   "metadata": {},
   "source": [
    "# 8. W.A.P to accept matrix elements from the user and save in the list"
   ]
  },
  {
   "cell_type": "code",
   "execution_count": 6,
   "id": "5aed074b",
   "metadata": {},
   "outputs": [
    {
     "name": "stdout",
     "output_type": "stream",
     "text": [
      "Enter number of rows: 3\n",
      "Enter number of columns: 3\n",
      "1\n",
      "2\n",
      "3\n",
      "4\n",
      "5\n",
      "6\n",
      "7\n",
      "8\n",
      "9\n",
      "[[1, 2, 3], [4, 5, 6], [7, 8, 9]]\n"
     ]
    }
   ],
   "source": [
    "matrix = []\n",
    "\n",
    "x = int(input(\"Enter number of rows: \"))\n",
    "y = int(input(\"Enter number of columns: \"))\n",
    "\n",
    "for i in range(x):\n",
    "    row = []\n",
    "    for j in range(y):\n",
    "        num = int(input())\n",
    "        row.append(num)\n",
    "    matrix.append(row)\n",
    "print(matrix)"
   ]
  },
  {
   "cell_type": "markdown",
   "id": "89023f67",
   "metadata": {},
   "source": [
    "# 9. W.A.P to find whether a given matrix is upper triangular or not"
   ]
  },
  {
   "cell_type": "code",
   "execution_count": 7,
   "id": "a9290ee7",
   "metadata": {},
   "outputs": [
    {
     "name": "stdout",
     "output_type": "stream",
     "text": [
      "Enter number of rows/column: 3\n",
      "3\n",
      "3\n",
      "3\n",
      "0\n",
      "2\n",
      "2\n",
      "0\n",
      "0\n",
      "1\n",
      "[[3, 3, 3], [0, 2, 2], [0, 0, 1]]\n",
      "Given matrix is upper triangular matrix\n"
     ]
    }
   ],
   "source": [
    "matrix = []\n",
    "x = int(input(\"Enter number of rows/column: \"))\n",
    "\n",
    "for i in range(x):\n",
    "    row = []\n",
    "    for j in range(x):\n",
    "        num = int(input())\n",
    "        row.append(num)\n",
    "    matrix.append(row)\n",
    "print(matrix)\n",
    "\n",
    "flag = 0\n",
    "for i in range(x):\n",
    "    for j in range(i):\n",
    "        if matrix[i][j]!=0:\n",
    "            flag = 1\n",
    "            \n",
    "if flag == 0:\n",
    "    print(\"Given matrix is upper triangular matrix\")\n",
    "else:\n",
    "    print(\"Given matrix is not an upper triangular matrix\")"
   ]
  },
  {
   "cell_type": "code",
   "execution_count": 10,
   "id": "351c0262",
   "metadata": {},
   "outputs": [
    {
     "name": "stdout",
     "output_type": "stream",
     "text": [
      "Enter number of rows/column: 3\n",
      "3\n",
      "0\n",
      "0\n",
      "3\n",
      "4\n",
      "4\n",
      "2\n",
      "3\n",
      "4\n",
      "[[3, 0, 0], [3, 4, 4], [2, 3, 4]]\n",
      "Given matrix is not an upper triangular matrix\n"
     ]
    }
   ],
   "source": [
    "matrix = []\n",
    "x = int(input(\"Enter number of rows/column: \"))\n",
    "\n",
    "for i in range(x):\n",
    "    row = []\n",
    "    for j in range(x):\n",
    "        num = int(input())\n",
    "        row.append(num)\n",
    "    matrix.append(row)\n",
    "print(matrix)\n",
    "\n",
    "flag = 0\n",
    "for i in range(x):\n",
    "    for j in range(i):\n",
    "        if matrix[i][j]!=0:\n",
    "            flag = 1\n",
    "            \n",
    "if flag == 0:\n",
    "    print(\"Given matrix is upper triangular matrix\")\n",
    "else:\n",
    "    print(\"Given matrix is not an upper triangular matrix\")"
   ]
  },
  {
   "cell_type": "markdown",
   "id": "1da621ab",
   "metadata": {},
   "source": [
    "# 1 0. W.A.P to Print following Pattern using loops\n",
    "#    *\n",
    "#   **\n",
    "#  ***\n",
    "# ****"
   ]
  },
  {
   "cell_type": "code",
   "execution_count": 79,
   "id": "b7285b71",
   "metadata": {},
   "outputs": [
    {
     "name": "stdout",
     "output_type": "stream",
     "text": [
      "     * \n",
      "    * * \n",
      "   * * * \n",
      "  * * * * \n"
     ]
    }
   ],
   "source": [
    "num = 4\n",
    "\n",
    "for i in range(0, num):\n",
    "    for j in range(0, (num-i+1)):\n",
    "        print(end = \" \")\n",
    "    for j in range(0,i+1):\n",
    "        print(\"*\", end=\" \")\n",
    "    print()"
   ]
  },
  {
   "cell_type": "code",
   "execution_count": 13,
   "id": "f821aed1",
   "metadata": {
    "scrolled": true
   },
   "outputs": [
    {
     "name": "stdout",
     "output_type": "stream",
     "text": [
      "*     \n",
      "* *    \n",
      "* * *   \n",
      "* * * *  \n",
      "* * * * * \n"
     ]
    }
   ],
   "source": [
    "i = 0\n",
    "while i<5:\n",
    "    j=0\n",
    "    while j<5:\n",
    "        if i>=j:\n",
    "            print('* ', end='' )\n",
    "        else:\n",
    "            print(end=' ')\n",
    "        j+=1\n",
    "    print()\n",
    "    i+=1"
   ]
  },
  {
   "cell_type": "code",
   "execution_count": null,
   "id": "f941d109",
   "metadata": {},
   "outputs": [],
   "source": []
  }
 ],
 "metadata": {
  "kernelspec": {
   "display_name": "Python 3",
   "language": "python",
   "name": "python3"
  },
  "language_info": {
   "codemirror_mode": {
    "name": "ipython",
    "version": 3
   },
   "file_extension": ".py",
   "mimetype": "text/x-python",
   "name": "python",
   "nbconvert_exporter": "python",
   "pygments_lexer": "ipython3",
   "version": "3.8.8"
  }
 },
 "nbformat": 4,
 "nbformat_minor": 5
}
