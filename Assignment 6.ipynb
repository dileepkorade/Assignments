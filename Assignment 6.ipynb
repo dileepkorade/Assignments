{
 "cells": [
  {
   "cell_type": "markdown",
   "id": "8bfe80fb",
   "metadata": {},
   "source": [
    "# 6. Write a program that accepts a sentence and calculate the number of letters and digits. Suppose the following input is supplied to the program: \"hello world! 123\" Then, the output should be: ALPHABETS 10 DIGITS 3 (Note : Special symbols are not alphabets) Submit pdf or screenshot of code."
   ]
  },
  {
   "cell_type": "code",
   "execution_count": 16,
   "id": "14b1cf45",
   "metadata": {},
   "outputs": [
    {
     "name": "stdout",
     "output_type": "stream",
     "text": [
      "Enter sentence: hello world! 123\n",
      "Number of characters:  16\n",
      "Number of digits:  3\n",
      "Number of alphabets:  10\n"
     ]
    }
   ],
   "source": [
    "sentence = input(\"Enter sentence: \")\n",
    "\n",
    "alphas = digits = chars = 0\n",
    "\n",
    "for i in sentence:\n",
    "    chars = chars + 1\n",
    "    if i.isdigit():\n",
    "        digits = digits + 1\n",
    "    elif i.isalpha():\n",
    "        alphas = alphas +1\n",
    "    else:\n",
    "        pass\n",
    "\n",
    "print(\"Number of characters: \", chars)\n",
    "print(\"Number of digits: \", digits)\n",
    "print(\"Number of alphabets: \", alphas)"
   ]
  },
  {
   "cell_type": "code",
   "execution_count": 2,
   "id": "1560333d",
   "metadata": {},
   "outputs": [
    {
     "name": "stdout",
     "output_type": "stream",
     "text": [
      "Enter sentence: ###\n",
      "Number of characters:  3\n",
      "Number of words:  1\n",
      "Number of alphabets 0\n"
     ]
    }
   ],
   "source": [
    "# to Calculate the Number of Words and the Number of Characters Present in a String\n",
    "\n",
    "sentence = input(\"Enter sentence: \")\n",
    "\n",
    "words = 1\n",
    "chars = 0\n",
    "alpha = 0\n",
    "\n",
    "for i in sentence:\n",
    "    chars = chars + 1\n",
    "    if i==\" \":\n",
    "        words = words + 1\n",
    "    elif i.isalpha():\n",
    "        alpha = alpha + 1\n",
    "    else: \n",
    "        pass\n",
    "print(\"Number of characters: \", chars)\n",
    "print(\"Number of words: \", words)\n",
    "print(\"Number of alphabets\", alpha)"
   ]
  },
  {
   "cell_type": "code",
   "execution_count": null,
   "id": "4c116deb",
   "metadata": {},
   "outputs": [],
   "source": []
  }
 ],
 "metadata": {
  "kernelspec": {
   "display_name": "Python 3",
   "language": "python",
   "name": "python3"
  },
  "language_info": {
   "codemirror_mode": {
    "name": "ipython",
    "version": 3
   },
   "file_extension": ".py",
   "mimetype": "text/x-python",
   "name": "python",
   "nbconvert_exporter": "python",
   "pygments_lexer": "ipython3",
   "version": "3.8.8"
  }
 },
 "nbformat": 4,
 "nbformat_minor": 5
}
