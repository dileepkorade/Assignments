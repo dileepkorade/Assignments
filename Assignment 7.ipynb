{
 "cells": [
  {
   "cell_type": "markdown",
   "id": "36ee9774",
   "metadata": {},
   "source": [
    "# 7. Write a program that computes the net amount of a bank account based a transaction log from console input. \n",
    "# The transaction log format is shown as following: \n",
    "# D 100 W 200 \n",
    "# (Withdrawal is not allowed if balance is going negative. Write functions for withdraw and deposit) \n",
    "# D means deposit while W means withdrawal. Suppose the following input is supplied to the program: \n",
    "# D 300 D 300 W 200 D 100 \n",
    "# Then, the output should be: \n",
    "# 500"
   ]
  },
  {
   "cell_type": "code",
   "execution_count": 2,
   "id": "d6510a74",
   "metadata": {},
   "outputs": [
    {
     "name": "stdout",
     "output_type": "stream",
     "text": [
      "Enter transaction in 'D 0000 or W 0000' format: D 300\n",
      "Enter transaction in 'D 0000 or W 0000' format: D 300\n",
      "Enter transaction in 'D 0000 or W 0000' format: W 200\n",
      "Enter transaction in 'D 0000 or W 0000' format: D 100\n",
      "Enter transaction in 'D 0000 or W 0000' format: \n",
      "Total balance is: 500\n"
     ]
    }
   ],
   "source": [
    "total_bal = 0\n",
    "\n",
    "while True:\n",
    "    transaction = input(\"Enter transaction in 'D 0000 or W 0000' format: \")\n",
    "    if transaction ==\"\":\n",
    "        break\n",
    "    else:\n",
    "        transaction = transaction.split()\n",
    "        type = transaction[0]\n",
    "        amount = int(transaction[1])\n",
    "        if type==\"D\":\n",
    "            total_bal = total_bal + amount\n",
    "        elif type==\"W\":\n",
    "            if total_bal >= amount:\n",
    "                total_bal = total_bal - amount\n",
    "            else:\n",
    "                print(\"Withdrawal is terminated due to low balance\")\n",
    "\n",
    "print(\"Total balance is:\", total_bal)"
   ]
  },
  {
   "cell_type": "code",
   "execution_count": 7,
   "id": "c01a85ae",
   "metadata": {},
   "outputs": [
    {
     "name": "stdout",
     "output_type": "stream",
     "text": [
      "Enter transaction in 'D 0000 or W 0000' format: D 500\n",
      "Enter transaction in 'D 0000 or W 0000' format: D 1000\n",
      "Enter transaction in 'D 0000 or W 0000' format: W 500\n",
      "Enter transaction in 'D 0000 or W 0000' format: W 2000\n",
      "Withdrawal is terminated due to low balance\n",
      "Enter transaction in 'D 0000 or W 0000' format: \n",
      "Total balance is: 1000\n"
     ]
    }
   ],
   "source": [
    "total_bal = 0\n",
    "\n",
    "while True:\n",
    "    transaction = input(\"Enter transaction in 'D 0000 or W 0000' format: \")\n",
    "    if transaction ==\"\":\n",
    "        break\n",
    "    else:\n",
    "        transaction = transaction.split()\n",
    "        type = transaction[0]\n",
    "        amount = int(transaction[1])\n",
    "        if type==\"D\":\n",
    "            total_bal = total_bal + amount\n",
    "        elif type==\"W\":\n",
    "            if total_bal >= amount:\n",
    "                total_bal = total_bal - amount\n",
    "            else:\n",
    "                print(\"Withdrawal is terminated due to low balance\")\n",
    "\n",
    "print(\"Total balance is:\", total_bal)"
   ]
  },
  {
   "cell_type": "code",
   "execution_count": null,
   "id": "0f87a10f",
   "metadata": {},
   "outputs": [],
   "source": []
  }
 ],
 "metadata": {
  "kernelspec": {
   "display_name": "Python 3",
   "language": "python",
   "name": "python3"
  },
  "language_info": {
   "codemirror_mode": {
    "name": "ipython",
    "version": 3
   },
   "file_extension": ".py",
   "mimetype": "text/x-python",
   "name": "python",
   "nbconvert_exporter": "python",
   "pygments_lexer": "ipython3",
   "version": "3.8.8"
  }
 },
 "nbformat": 4,
 "nbformat_minor": 5
}
