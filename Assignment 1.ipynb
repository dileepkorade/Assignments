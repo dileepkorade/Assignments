{
 "cells": [
  {
   "cell_type": "code",
   "execution_count": 1,
   "id": "b3da5469",
   "metadata": {},
   "outputs": [],
   "source": [
    "# code 1"
   ]
  },
  {
   "cell_type": "code",
   "execution_count": 2,
   "id": "542203a9",
   "metadata": {},
   "outputs": [
    {
     "name": "stdout",
     "output_type": "stream",
     "text": [
      "* 4\n",
      "* 8\n",
      "$ 12\n",
      "* 16\n",
      "* 20\n",
      "$ 24\n",
      "* 28\n",
      "* 32\n",
      "$ 36\n",
      "* 40\n",
      "* 44\n",
      "$ 48\n"
     ]
    }
   ],
   "source": [
    "for i in range(1,50):\n",
    "    if i%4 == 0:\n",
    "        if i%6 == 0:\n",
    "            print('$', i)\n",
    "        else:\n",
    "            print('*', i)"
   ]
  },
  {
   "cell_type": "code",
   "execution_count": 3,
   "id": "eb48a9d8",
   "metadata": {},
   "outputs": [],
   "source": [
    "# code 2"
   ]
  },
  {
   "cell_type": "code",
   "execution_count": 4,
   "id": "aabe91c1",
   "metadata": {},
   "outputs": [
    {
     "name": "stdout",
     "output_type": "stream",
     "text": [
      "0 1 2 3 4 \n",
      "1 2 3 4 5 \n",
      "2 3 4 5 6 \n",
      "3 4 5 6 7 \n",
      "4 5 6 7 8 \n"
     ]
    }
   ],
   "source": [
    "for i in range(5):\n",
    "    for j in range(5):\n",
    "        print(i+j, end=' ')\n",
    "    print()"
   ]
  },
  {
   "cell_type": "code",
   "execution_count": 7,
   "id": "075e7b56",
   "metadata": {},
   "outputs": [
    {
     "name": "stdout",
     "output_type": "stream",
     "text": [
      "0 1 2 3 4 \n",
      "2 3 4 5 \n",
      "4 5 6 \n",
      "6 7 \n",
      "8 \n"
     ]
    }
   ],
   "source": [
    "# code 3\n",
    "\n",
    "for i in range(5):\n",
    "    for j in range(5):\n",
    "        if j>=i:\n",
    "            print(i+j, end =' ')\n",
    "    print()            "
   ]
  },
  {
   "cell_type": "code",
   "execution_count": 25,
   "id": "0268b954",
   "metadata": {},
   "outputs": [
    {
     "name": "stdout",
     "output_type": "stream",
     "text": [
      "0 1 2 3 4 \n",
      " 2 3 4 5 \n",
      "  4 5 6 \n",
      "   6 7 \n",
      "    8 \n"
     ]
    }
   ],
   "source": [
    "# code 3'\n",
    "\n",
    "for i in range(5):\n",
    "    for j in range(5):\n",
    "        if j>=i:\n",
    "            print(i+j, end =' ')\n",
    "        else:\n",
    "            print(' ', end ='')\n",
    "    print()  "
   ]
  },
  {
   "cell_type": "code",
   "execution_count": 26,
   "id": "69e3e73e",
   "metadata": {},
   "outputs": [
    {
     "name": "stdout",
     "output_type": "stream",
     "text": [
      "0 1 2 3 4 \n",
      "  2 3 4 5 \n",
      "    4 5 6 \n",
      "      6 7 \n",
      "        8 \n"
     ]
    }
   ],
   "source": [
    "# code 3\"\n",
    "\n",
    "for i in range(5):\n",
    "    for j in range(5):\n",
    "        if j>=i:\n",
    "            print(i+j, end =' ')\n",
    "        else:\n",
    "            print(' ', end =' ')\n",
    "    print()"
   ]
  },
  {
   "cell_type": "code",
   "execution_count": 27,
   "id": "a5e3e929",
   "metadata": {},
   "outputs": [
    {
     "name": "stdout",
     "output_type": "stream",
     "text": [
      "0 1 2 3 4 \n",
      " 2 3 4 5 \n",
      "  4 5 6 \n",
      "   6 7 \n",
      "    8 \n"
     ]
    }
   ],
   "source": [
    "# code 3'\n",
    "\n",
    "for i in range(5):\n",
    "    for j in range(5):\n",
    "        if j>=i:\n",
    "            print(i+j, end =' ')\n",
    "        else:\n",
    "            print('', end =' ')\n",
    "    print()"
   ]
  },
  {
   "cell_type": "code",
   "execution_count": 38,
   "id": "c25b500c",
   "metadata": {},
   "outputs": [
    {
     "name": "stdout",
     "output_type": "stream",
     "text": [
      "* * * * * \n",
      " * * * * \n",
      "  * * * \n",
      "   * * \n",
      "    * \n"
     ]
    }
   ],
   "source": [
    "# code 3\"\n",
    "\n",
    "for i in range(5):\n",
    "    for j in range(5):\n",
    "        if j>=i:\n",
    "            print('*', end =' ')\n",
    "        else:\n",
    "            print('', end =' ')\n",
    "    print()"
   ]
  },
  {
   "cell_type": "code",
   "execution_count": 15,
   "id": "cfa440d3",
   "metadata": {},
   "outputs": [
    {
     "name": "stdout",
     "output_type": "stream",
     "text": [
      "    *\n",
      "   **\n",
      "  ***\n",
      " ****\n",
      "*****\n"
     ]
    }
   ],
   "source": [
    "# code 4\n",
    "\n",
    "for i in range(5):\n",
    "    for j in range(5):\n",
    "        if i+j>=4:\n",
    "            print('*', end = '')\n",
    "        else:\n",
    "            print(' ', end = '')\n",
    "    print()"
   ]
  },
  {
   "cell_type": "code",
   "execution_count": 16,
   "id": "37b54a73",
   "metadata": {},
   "outputs": [
    {
     "name": "stdout",
     "output_type": "stream",
     "text": [
      "    * \n",
      "   * * \n",
      "  * * * \n",
      " * * * * \n",
      "* * * * * \n"
     ]
    }
   ],
   "source": [
    "# code 4'\n",
    "\n",
    "for i in range(5):\n",
    "    for j in range(5):\n",
    "        if i+j>=4:\n",
    "            print('*', end = ' ')\n",
    "        else:\n",
    "            print(' ', end = '')\n",
    "    print()"
   ]
  },
  {
   "cell_type": "code",
   "execution_count": 18,
   "id": "73da5242",
   "metadata": {},
   "outputs": [
    {
     "name": "stdout",
     "output_type": "stream",
     "text": [
      "        * \n",
      "      * * \n",
      "    * * * \n",
      "  * * * * \n",
      "* * * * * \n"
     ]
    }
   ],
   "source": [
    "# code 4\"\n",
    "\n",
    "for i in range(5):\n",
    "    for j in range(5):\n",
    "        if i+j>=4:\n",
    "            print('*', end = ' ')\n",
    "        else:\n",
    "            print(' ', end = ' ')\n",
    "    print()"
   ]
  },
  {
   "cell_type": "code",
   "execution_count": 19,
   "id": "c6ac0fe2",
   "metadata": {},
   "outputs": [
    {
     "name": "stdout",
     "output_type": "stream",
     "text": [
      "$   $\n",
      " $ $ \n",
      "  $  \n",
      " $ $ \n",
      "$   $\n"
     ]
    }
   ],
   "source": [
    "# code 5\n",
    "\n",
    "for i in range(5):\n",
    "    for j in range(5):\n",
    "        if i==j or i+j==4:\n",
    "            print('$', end = '')\n",
    "        else:\n",
    "            print(' ', end = '')\n",
    "    print()"
   ]
  },
  {
   "cell_type": "code",
   "execution_count": 24,
   "id": "88ab7668",
   "metadata": {},
   "outputs": [
    {
     "name": "stdout",
     "output_type": "stream",
     "text": [
      "$       $ \n",
      "  $   $   \n",
      "    $     \n",
      "  $   $   \n",
      "$       $ \n"
     ]
    }
   ],
   "source": [
    "# code 5'\n",
    "\n",
    "for i in range(5):\n",
    "    for j in range(5):\n",
    "        if i==j or i+j==4:\n",
    "            print('$', end = ' ')\n",
    "        else:\n",
    "            print(' ', end = ' ')\n",
    "    print()"
   ]
  },
  {
   "cell_type": "code",
   "execution_count": 29,
   "id": "8df15763",
   "metadata": {},
   "outputs": [
    {
     "name": "stdout",
     "output_type": "stream",
     "text": [
      "     * \n",
      "    * * \n",
      "   * * * \n",
      "  * * * * \n",
      " * * * * * \n"
     ]
    }
   ],
   "source": [
    "# code 6\n",
    "\n",
    "for i in range(5):\n",
    "    j,k=5-i,0             # j=5-i, k=0\n",
    "    while j>0:\n",
    "        print(' ', end = '')    # end is empty string\n",
    "        j-=1\n",
    "    while k<=i:\n",
    "        print('*', end =' ')    # end is ' ' string\n",
    "        k+=1\n",
    "    print()"
   ]
  },
  {
   "cell_type": "code",
   "execution_count": 30,
   "id": "e9716adc",
   "metadata": {},
   "outputs": [
    {
     "name": "stdout",
     "output_type": "stream",
     "text": [
      "          * \n",
      "        * * \n",
      "      * * * \n",
      "    * * * * \n",
      "  * * * * * \n"
     ]
    }
   ],
   "source": [
    "# code 6'\n",
    "\n",
    "for i in range(5):\n",
    "    j,k=5-i,0             # j=5-i, k=0\n",
    "    while j>0:\n",
    "        print(' ', end = ' ')    # end is empty string\n",
    "        j-=1\n",
    "    while k<=i:\n",
    "        print('*', end =' ')    # end is ' ' string\n",
    "        k+=1\n",
    "    print()"
   ]
  },
  {
   "cell_type": "code",
   "execution_count": 31,
   "id": "872f99fc",
   "metadata": {},
   "outputs": [
    {
     "name": "stdout",
     "output_type": "stream",
     "text": [
      "* \n",
      "* * \n",
      "* * * \n",
      "* * * * \n",
      "* * * * * \n"
     ]
    }
   ],
   "source": [
    "# code 6\"\n",
    "\n",
    "for i in range(5):\n",
    "    j,k=5-i,0             # j=5-i, k=0\n",
    "    while j>0:\n",
    "        print('', end = '')    # end is empty string\n",
    "        j-=1\n",
    "    while k<=i:\n",
    "        print('*', end =' ')    # end is ' ' string\n",
    "        k+=1\n",
    "    print()"
   ]
  },
  {
   "cell_type": "code",
   "execution_count": 37,
   "id": "0b80ab55",
   "metadata": {},
   "outputs": [
    {
     "name": "stdout",
     "output_type": "stream",
     "text": [
      "     *\n",
      "    **\n",
      "   ***\n",
      "  ****\n",
      " *****\n"
     ]
    }
   ],
   "source": [
    "# code 6\"'\n",
    "\n",
    "for i in range(5):\n",
    "    j,k=5-i,0             # j=5-i, k=0\n",
    "    while j>0:\n",
    "        print(' ', end = '')    # end is empty string\n",
    "        j-=1\n",
    "    while k<=i:\n",
    "        print('*', end ='')    # end is ' ' string\n",
    "        k+=1\n",
    "    print()"
   ]
  },
  {
   "cell_type": "code",
   "execution_count": null,
   "id": "7d6d0aa2",
   "metadata": {},
   "outputs": [],
   "source": []
  }
 ],
 "metadata": {
  "kernelspec": {
   "display_name": "Python 3",
   "language": "python",
   "name": "python3"
  },
  "language_info": {
   "codemirror_mode": {
    "name": "ipython",
    "version": 3
   },
   "file_extension": ".py",
   "mimetype": "text/x-python",
   "name": "python",
   "nbconvert_exporter": "python",
   "pygments_lexer": "ipython3",
   "version": "3.8.8"
  }
 },
 "nbformat": 4,
 "nbformat_minor": 5
}
