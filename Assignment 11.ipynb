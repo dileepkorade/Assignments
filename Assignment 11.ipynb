{
 "cells": [
  {
   "cell_type": "markdown",
   "id": "838e8f73",
   "metadata": {},
   "source": [
    "# 11. In a college grading system, marks are given in 0-100 range. As a final grade, students marks should be rounded to multiple of 5. Rounding must be done using following rules.\n",
    "A. If the difference between the current marks and the next multiple of 5 is less than 3, round marks up to the next multiple of 5 else round down to previous multiple of 5. B. Do not round if Student is failed (<40) Examples 73 =>round to 75 (75 - 73 is less than 3,, so round to next multiple of 5=>75) 30 =>do not round (result is less than 40) 52 =>round to 50 (55 - 52 is not less than 3, so round to previous multiple of 5=>50)\n",
    "\n",
    "Write a python code to accept marks from user and display final marks. (Implement function to get marks)"
   ]
  },
  {
   "cell_type": "code",
   "execution_count": 2,
   "id": "011074f4",
   "metadata": {},
   "outputs": [
    {
     "name": "stdout",
     "output_type": "stream",
     "text": [
      "Enter your marks in the range of 0-100: abc\n",
      "Enter marks in digit form\n",
      "Enter your marks in the range of 0-100: 100a\n",
      "Enter marks in digit form\n",
      "Enter your marks in the range of 0-100: -10\n",
      "Enter marks in digit form\n",
      "Enter your marks in the range of 0-100: 21\n",
      "21\n",
      "Enter your marks in the range of 0-100: 39\n",
      "39\n",
      "Enter your marks in the range of 0-100: 40\n",
      "40\n",
      "Enter your marks in the range of 0-100: 62\n",
      "60\n",
      "Enter your marks in the range of 0-100: 63\n",
      "65\n",
      "Enter your marks in the range of 0-100: 98\n",
      "100\n",
      "Enter your marks in the range of 0-100: 100\n",
      "100\n",
      "Enter your marks in the range of 0-100: 102\n",
      "Entered marks are not in the range of 0-100\n",
      "Enter your marks in the range of 0-100: \n"
     ]
    }
   ],
   "source": [
    "while True:\n",
    "    marks = input(\"Enter your marks in the range of 0-100: \")\n",
    "\n",
    "    if marks == \"\":                 # is it correct ? \n",
    "        break\n",
    "\n",
    "    else:\n",
    "        if marks.isdigit():\n",
    "            if 0 <= int(marks) <= 100:\n",
    "                if int(marks) < 40:\n",
    "                    print(marks)\n",
    "                elif ((((int(marks)//5)+1)*5) - int(marks))<3:\n",
    "                    print(((int(marks)//5)+1)*5)\n",
    "                elif ((((int(marks)//5)+1)*5) - int(marks))>=3:\n",
    "                    print(((int(marks)//5))*5)\n",
    "            else:\n",
    "                print(\"Entered marks are not in the range of 0-100\")\n",
    "        else:\n",
    "            print(\"Enter marks in digit form\")"
   ]
  },
  {
   "cell_type": "code",
   "execution_count": 26,
   "id": "b0baf97d",
   "metadata": {},
   "outputs": [],
   "source": [
    "def mark_check(marks):\n",
    "    if 0 <= marks <= 100:\n",
    "        if marks < 40:\n",
    "            print(marks)\n",
    "        elif ((((marks//5)+1)*5) - marks)<3:\n",
    "            print(((marks//5)+1)*5)\n",
    "        elif ((((marks//5)+1)*5) - marks)>=3:\n",
    "            print(((marks//5))*5)\n",
    "            \n",
    "    else:\n",
    "        print(\"Enter marks in the range of 0-100\")"
   ]
  },
  {
   "cell_type": "code",
   "execution_count": 27,
   "id": "9cfabbae",
   "metadata": {},
   "outputs": [
    {
     "ename": "SyntaxError",
     "evalue": "invalid syntax (<ipython-input-27-2735770fabd1>, line 1)",
     "output_type": "error",
     "traceback": [
      "\u001b[1;36m  File \u001b[1;32m\"<ipython-input-27-2735770fabd1>\"\u001b[1;36m, line \u001b[1;32m1\u001b[0m\n\u001b[1;33m    num = 100a\u001b[0m\n\u001b[1;37m             ^\u001b[0m\n\u001b[1;31mSyntaxError\u001b[0m\u001b[1;31m:\u001b[0m invalid syntax\n"
     ]
    }
   ],
   "source": [
    "num = 100a                              # what changes required if some one given input as string or float\n",
    "mark_check(num)"
   ]
  },
  {
   "cell_type": "code",
   "execution_count": 39,
   "id": "c99bd7a9",
   "metadata": {},
   "outputs": [
    {
     "name": "stdout",
     "output_type": "stream",
     "text": [
      "Enter marks in the range of 0-100 100abc\n",
      "Enter marks in the range of 0-100\n"
     ]
    }
   ],
   "source": [
    "marks = input(\"Enter marks in the range of 0-100 \")         \n",
    "if marks.isdigit():                                    # how we can add this in above code\n",
    "    print(marks) \n",
    "else:\n",
    "    print(\"Enter marks in the range of 0-100\")"
   ]
  },
  {
   "cell_type": "code",
   "execution_count": 28,
   "id": "5665d9a4",
   "metadata": {},
   "outputs": [
    {
     "name": "stdout",
     "output_type": "stream",
     "text": [
      "0\n"
     ]
    }
   ],
   "source": [
    "mark_check(0)"
   ]
  },
  {
   "cell_type": "code",
   "execution_count": 29,
   "id": "689644dd",
   "metadata": {},
   "outputs": [
    {
     "name": "stdout",
     "output_type": "stream",
     "text": [
      "39\n"
     ]
    }
   ],
   "source": [
    "mark_check(39)"
   ]
  },
  {
   "cell_type": "code",
   "execution_count": 30,
   "id": "391cd980",
   "metadata": {},
   "outputs": [
    {
     "name": "stdout",
     "output_type": "stream",
     "text": [
      "60\n"
     ]
    }
   ],
   "source": [
    "mark_check(62)"
   ]
  },
  {
   "cell_type": "code",
   "execution_count": 31,
   "id": "4986ce6d",
   "metadata": {},
   "outputs": [
    {
     "name": "stdout",
     "output_type": "stream",
     "text": [
      "75\n"
     ]
    }
   ],
   "source": [
    "mark_check(73)"
   ]
  },
  {
   "cell_type": "code",
   "execution_count": 32,
   "id": "c8b09231",
   "metadata": {},
   "outputs": [
    {
     "name": "stdout",
     "output_type": "stream",
     "text": [
      "100\n"
     ]
    }
   ],
   "source": [
    "mark_check(100)"
   ]
  },
  {
   "cell_type": "code",
   "execution_count": 33,
   "id": "6d82bd26",
   "metadata": {},
   "outputs": [
    {
     "name": "stdout",
     "output_type": "stream",
     "text": [
      "Enter marks in the range of 0-100\n"
     ]
    }
   ],
   "source": [
    "mark_check(101)"
   ]
  },
  {
   "cell_type": "code",
   "execution_count": 35,
   "id": "2266b81e",
   "metadata": {},
   "outputs": [
    {
     "name": "stdout",
     "output_type": "stream",
     "text": [
      "Enter your marks in the range of 0-100: -10\n",
      "Enter marks in the range of 0-100\n"
     ]
    }
   ],
   "source": [
    "marks = int(input(\"Enter your marks in the range of 0-100: \"))\n",
    "mark_check(marks)"
   ]
  },
  {
   "cell_type": "code",
   "execution_count": 36,
   "id": "74090b64",
   "metadata": {},
   "outputs": [
    {
     "name": "stdout",
     "output_type": "stream",
     "text": [
      "Enter marks in the range of 0-100\n",
      "21\n",
      "39\n",
      "40\n",
      "60\n",
      "75\n",
      "95\n",
      "100\n",
      "Enter marks in the range of 0-100\n"
     ]
    }
   ],
   "source": [
    "num = [-10, 21, 39, 40, 62, 73, 97, 100, 101]\n",
    "\n",
    "for i in num:\n",
    "    mark_check(i)"
   ]
  },
  {
   "cell_type": "code",
   "execution_count": 41,
   "id": "5afb2d5d",
   "metadata": {},
   "outputs": [
    {
     "name": "stdout",
     "output_type": "stream",
     "text": [
      "80\n"
     ]
    }
   ],
   "source": [
    "num = 78\n",
    "mark_check(num)"
   ]
  },
  {
   "cell_type": "code",
   "execution_count": 25,
   "id": "1eb1ca40",
   "metadata": {},
   "outputs": [],
   "source": [
    "def mark_check(marks):\n",
    "    if marks.isdigit():\n",
    "        if 0 <= marks <= 100:\n",
    "            if marks < 40:\n",
    "                print(marks)\n",
    "            elif ((((marks//5)+1)*5) - marks)<3:\n",
    "                print(((marks//5)+1)*5)\n",
    "            elif ((((marks//5)+1)*5) - marks)>=3:\n",
    "                print(((marks//5))*5)\n",
    "        else:\n",
    "            print(\"Enter marks in the range of 0-100\")\n",
    "    else:\n",
    "        print(\"Enter marks in the range of 0-100\")"
   ]
  },
  {
   "cell_type": "code",
   "execution_count": 26,
   "id": "bd740a1b",
   "metadata": {},
   "outputs": [
    {
     "ename": "AttributeError",
     "evalue": "'int' object has no attribute 'isdigit'",
     "output_type": "error",
     "traceback": [
      "\u001b[1;31m---------------------------------------------------------------------------\u001b[0m",
      "\u001b[1;31mAttributeError\u001b[0m                            Traceback (most recent call last)",
      "\u001b[1;32m<ipython-input-26-07abca40326a>\u001b[0m in \u001b[0;36m<module>\u001b[1;34m\u001b[0m\n\u001b[0;32m      1\u001b[0m \u001b[0mnum\u001b[0m \u001b[1;33m=\u001b[0m \u001b[1;36m72\u001b[0m\u001b[1;33m\u001b[0m\u001b[1;33m\u001b[0m\u001b[0m\n\u001b[0;32m      2\u001b[0m \u001b[1;33m\u001b[0m\u001b[0m\n\u001b[1;32m----> 3\u001b[1;33m \u001b[0mmark_check\u001b[0m\u001b[1;33m(\u001b[0m\u001b[0mnum\u001b[0m\u001b[1;33m)\u001b[0m\u001b[1;33m\u001b[0m\u001b[1;33m\u001b[0m\u001b[0m\n\u001b[0m",
      "\u001b[1;32m<ipython-input-25-81589f13e8cb>\u001b[0m in \u001b[0;36mmark_check\u001b[1;34m(marks)\u001b[0m\n\u001b[0;32m      1\u001b[0m \u001b[1;32mdef\u001b[0m \u001b[0mmark_check\u001b[0m\u001b[1;33m(\u001b[0m\u001b[0mmarks\u001b[0m\u001b[1;33m)\u001b[0m\u001b[1;33m:\u001b[0m\u001b[1;33m\u001b[0m\u001b[1;33m\u001b[0m\u001b[0m\n\u001b[1;32m----> 2\u001b[1;33m     \u001b[1;32mif\u001b[0m \u001b[0mmarks\u001b[0m\u001b[1;33m.\u001b[0m\u001b[0misdigit\u001b[0m\u001b[1;33m(\u001b[0m\u001b[1;33m)\u001b[0m\u001b[1;33m:\u001b[0m\u001b[1;33m\u001b[0m\u001b[1;33m\u001b[0m\u001b[0m\n\u001b[0m\u001b[0;32m      3\u001b[0m         \u001b[1;32mif\u001b[0m \u001b[1;36m0\u001b[0m \u001b[1;33m<=\u001b[0m \u001b[0mmarks\u001b[0m \u001b[1;33m<=\u001b[0m \u001b[1;36m100\u001b[0m\u001b[1;33m:\u001b[0m\u001b[1;33m\u001b[0m\u001b[1;33m\u001b[0m\u001b[0m\n\u001b[0;32m      4\u001b[0m             \u001b[1;32mif\u001b[0m \u001b[0mmarks\u001b[0m \u001b[1;33m<\u001b[0m \u001b[1;36m40\u001b[0m\u001b[1;33m:\u001b[0m\u001b[1;33m\u001b[0m\u001b[1;33m\u001b[0m\u001b[0m\n\u001b[0;32m      5\u001b[0m                 \u001b[0mprint\u001b[0m\u001b[1;33m(\u001b[0m\u001b[0mmarks\u001b[0m\u001b[1;33m)\u001b[0m\u001b[1;33m\u001b[0m\u001b[1;33m\u001b[0m\u001b[0m\n",
      "\u001b[1;31mAttributeError\u001b[0m: 'int' object has no attribute 'isdigit'"
     ]
    }
   ],
   "source": [
    "num = 72\n",
    "\n",
    "mark_check(num)"
   ]
  },
  {
   "cell_type": "code",
   "execution_count": 27,
   "id": "e8f87296",
   "metadata": {},
   "outputs": [],
   "source": [
    "def mark_check():\n",
    "    marks = input(\"Enter marks in the range of 0-100: \")\n",
    "    if marks.isdigit():\n",
    "        if 0 <= marks <= 100:\n",
    "            if marks < 40:\n",
    "                print(marks)\n",
    "            elif ((((marks//5)+1)*5) - marks)<3:\n",
    "                print(((marks//5)+1)*5)\n",
    "            elif ((((marks//5)+1)*5) - marks)>=3:\n",
    "                print(((marks//5))*5)\n",
    "        else:\n",
    "            print(\"Enter marks in the range of 0-100\")\n",
    "    else:\n",
    "        print(\"Enter marks in the range of 0-100\")"
   ]
  },
  {
   "cell_type": "code",
   "execution_count": 29,
   "id": "52cec01e",
   "metadata": {},
   "outputs": [
    {
     "name": "stdout",
     "output_type": "stream",
     "text": [
      "Enter marks in the range of 0-100: 88\n"
     ]
    },
    {
     "ename": "TypeError",
     "evalue": "'<=' not supported between instances of 'int' and 'str'",
     "output_type": "error",
     "traceback": [
      "\u001b[1;31m---------------------------------------------------------------------------\u001b[0m",
      "\u001b[1;31mTypeError\u001b[0m                                 Traceback (most recent call last)",
      "\u001b[1;32m<ipython-input-29-c5830eadc12f>\u001b[0m in \u001b[0;36m<module>\u001b[1;34m\u001b[0m\n\u001b[1;32m----> 1\u001b[1;33m \u001b[0mmark_check\u001b[0m\u001b[1;33m(\u001b[0m\u001b[1;33m)\u001b[0m\u001b[1;33m\u001b[0m\u001b[1;33m\u001b[0m\u001b[0m\n\u001b[0m",
      "\u001b[1;32m<ipython-input-27-d18969175bd3>\u001b[0m in \u001b[0;36mmark_check\u001b[1;34m()\u001b[0m\n\u001b[0;32m      2\u001b[0m     \u001b[0mmarks\u001b[0m \u001b[1;33m=\u001b[0m \u001b[0minput\u001b[0m\u001b[1;33m(\u001b[0m\u001b[1;34m\"Enter marks in the range of 0-100: \"\u001b[0m\u001b[1;33m)\u001b[0m\u001b[1;33m\u001b[0m\u001b[1;33m\u001b[0m\u001b[0m\n\u001b[0;32m      3\u001b[0m     \u001b[1;32mif\u001b[0m \u001b[0mmarks\u001b[0m\u001b[1;33m.\u001b[0m\u001b[0misdigit\u001b[0m\u001b[1;33m(\u001b[0m\u001b[1;33m)\u001b[0m\u001b[1;33m:\u001b[0m\u001b[1;33m\u001b[0m\u001b[1;33m\u001b[0m\u001b[0m\n\u001b[1;32m----> 4\u001b[1;33m         \u001b[1;32mif\u001b[0m \u001b[1;36m0\u001b[0m \u001b[1;33m<=\u001b[0m \u001b[0mmarks\u001b[0m \u001b[1;33m<=\u001b[0m \u001b[1;36m100\u001b[0m\u001b[1;33m:\u001b[0m\u001b[1;33m\u001b[0m\u001b[1;33m\u001b[0m\u001b[0m\n\u001b[0m\u001b[0;32m      5\u001b[0m             \u001b[1;32mif\u001b[0m \u001b[0mmarks\u001b[0m \u001b[1;33m<\u001b[0m \u001b[1;36m40\u001b[0m\u001b[1;33m:\u001b[0m\u001b[1;33m\u001b[0m\u001b[1;33m\u001b[0m\u001b[0m\n\u001b[0;32m      6\u001b[0m                 \u001b[0mprint\u001b[0m\u001b[1;33m(\u001b[0m\u001b[0mmarks\u001b[0m\u001b[1;33m)\u001b[0m\u001b[1;33m\u001b[0m\u001b[1;33m\u001b[0m\u001b[0m\n",
      "\u001b[1;31mTypeError\u001b[0m: '<=' not supported between instances of 'int' and 'str'"
     ]
    }
   ],
   "source": [
    "mark_check()"
   ]
  },
  {
   "cell_type": "code",
   "execution_count": 38,
   "id": "1bbaf6fc",
   "metadata": {},
   "outputs": [],
   "source": [
    "def mark_check():\n",
    "    marks = int(input(\"Enter marks in the range of 0-100: \"))\n",
    "    if 0 <= marks <= 100:\n",
    "        if marks < 40:\n",
    "            print(marks)\n",
    "        elif ((((marks//5)+1)*5) - marks)<3:\n",
    "            print(((marks//5)+1)*5)\n",
    "        elif ((((marks//5)+1)*5) - marks)>=3:\n",
    "            print(((marks//5))*5)\n",
    "    else:\n",
    "        print(\"Enter marks in the range of 0-100\")"
   ]
  },
  {
   "cell_type": "code",
   "execution_count": 39,
   "id": "432dca97",
   "metadata": {},
   "outputs": [
    {
     "name": "stdout",
     "output_type": "stream",
     "text": [
      "Enter marks in the range of 0-100: 100a\n"
     ]
    },
    {
     "ename": "ValueError",
     "evalue": "invalid literal for int() with base 10: '100a'",
     "output_type": "error",
     "traceback": [
      "\u001b[1;31m---------------------------------------------------------------------------\u001b[0m",
      "\u001b[1;31mValueError\u001b[0m                                Traceback (most recent call last)",
      "\u001b[1;32m<ipython-input-39-c5830eadc12f>\u001b[0m in \u001b[0;36m<module>\u001b[1;34m\u001b[0m\n\u001b[1;32m----> 1\u001b[1;33m \u001b[0mmark_check\u001b[0m\u001b[1;33m(\u001b[0m\u001b[1;33m)\u001b[0m\u001b[1;33m\u001b[0m\u001b[1;33m\u001b[0m\u001b[0m\n\u001b[0m",
      "\u001b[1;32m<ipython-input-38-5cb251db8592>\u001b[0m in \u001b[0;36mmark_check\u001b[1;34m()\u001b[0m\n\u001b[0;32m      1\u001b[0m \u001b[1;32mdef\u001b[0m \u001b[0mmark_check\u001b[0m\u001b[1;33m(\u001b[0m\u001b[1;33m)\u001b[0m\u001b[1;33m:\u001b[0m\u001b[1;33m\u001b[0m\u001b[1;33m\u001b[0m\u001b[0m\n\u001b[1;32m----> 2\u001b[1;33m     \u001b[0mmarks\u001b[0m \u001b[1;33m=\u001b[0m \u001b[0mint\u001b[0m\u001b[1;33m(\u001b[0m\u001b[0minput\u001b[0m\u001b[1;33m(\u001b[0m\u001b[1;34m\"Enter marks in the range of 0-100: \"\u001b[0m\u001b[1;33m)\u001b[0m\u001b[1;33m)\u001b[0m\u001b[1;33m\u001b[0m\u001b[1;33m\u001b[0m\u001b[0m\n\u001b[0m\u001b[0;32m      3\u001b[0m     \u001b[1;32mif\u001b[0m \u001b[1;36m0\u001b[0m \u001b[1;33m<=\u001b[0m \u001b[0mmarks\u001b[0m \u001b[1;33m<=\u001b[0m \u001b[1;36m100\u001b[0m\u001b[1;33m:\u001b[0m\u001b[1;33m\u001b[0m\u001b[1;33m\u001b[0m\u001b[0m\n\u001b[0;32m      4\u001b[0m         \u001b[1;32mif\u001b[0m \u001b[0mmarks\u001b[0m \u001b[1;33m<\u001b[0m \u001b[1;36m40\u001b[0m\u001b[1;33m:\u001b[0m\u001b[1;33m\u001b[0m\u001b[1;33m\u001b[0m\u001b[0m\n\u001b[0;32m      5\u001b[0m             \u001b[0mprint\u001b[0m\u001b[1;33m(\u001b[0m\u001b[0mmarks\u001b[0m\u001b[1;33m)\u001b[0m\u001b[1;33m\u001b[0m\u001b[1;33m\u001b[0m\u001b[0m\n",
      "\u001b[1;31mValueError\u001b[0m: invalid literal for int() with base 10: '100a'"
     ]
    }
   ],
   "source": [
    "mark_check()"
   ]
  },
  {
   "cell_type": "code",
   "execution_count": null,
   "id": "116ab4d7",
   "metadata": {},
   "outputs": [],
   "source": []
  }
 ],
 "metadata": {
  "kernelspec": {
   "display_name": "Python 3",
   "language": "python",
   "name": "python3"
  },
  "language_info": {
   "codemirror_mode": {
    "name": "ipython",
    "version": 3
   },
   "file_extension": ".py",
   "mimetype": "text/x-python",
   "name": "python",
   "nbconvert_exporter": "python",
   "pygments_lexer": "ipython3",
   "version": "3.8.8"
  }
 },
 "nbformat": 4,
 "nbformat_minor": 5
}
